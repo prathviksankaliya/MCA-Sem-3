{
 "cells": [
  {
   "attachments": {},
   "cell_type": "markdown",
   "id": "republican-murray",
   "metadata": {},
   "source": [
    "### 1. How to create a Python program in notepad/IDLE?\n",
    "<br>\n",
    "- Open notepad/IDLE.<br>\n",
    "- Create a new file: program-1.py <br>\n",
    "- Enter followoing program code. <br>"
   ]
  },
  {
   "attachments": {},
   "cell_type": "markdown",
   "id": "composed-persian",
   "metadata": {},
   "source": [
    "MCA SEMESTER 3.<br>\n",
    "You can type everything.<br>\n",
    "This cell is not treated as a python code."
   ]
  },
  {
   "cell_type": "code",
   "execution_count": 27,
   "id": "rapid-demographic",
   "metadata": {},
   "outputs": [
    {
     "name": "stdout",
     "output_type": "stream",
     "text": [
      "Hello students.\n",
      "Welcome to the MCA-Semester-III-Python Programming-Laboratory.\n",
      "Smartly work hard. Good Bye...\n"
     ]
    }
   ],
   "source": [
    "print(\"Hello students.\")\n",
    "print(\"Welcome to the MCA-Semester-III-Python Programming-Laboratory.\")\n",
    "print(\"Smartly work hard.\",end='')\n",
    "print(\" Good Bye...\")"
   ]
  },
  {
   "attachments": {},
   "cell_type": "markdown",
   "id": "functional-elimination",
   "metadata": {},
   "source": [
    "- Open command prompt and change to the above program's directory.<br>\n",
    "- Issue command: <br>\n",
    "  python program-1.py\n",
    "  <br>\n",
    "- Notice output/error."
   ]
  },
  {
   "attachments": {},
   "cell_type": "markdown",
   "id": "closed-credits",
   "metadata": {},
   "source": [
    "### 2. How to create Python program in Jupyter Notebook?\n",
    "- Open Jupyter Notebook.<br>\n",
    "- Observe Jupyter Notebook interface.<br>\n",
    "- The escape/command mode. (Press ESC key.)<br>\n",
    "- The edit mode.(Press enter key.)<br>\n",
    "- Cell types:<br>\n",
    "-- Markdown<br>\n",
    "-- Code"
   ]
  },
  {
   "attachments": {},
   "cell_type": "markdown",
   "id": "essential-possession",
   "metadata": {},
   "source": [
    "- Insert cell below current cell: ESC , b <br>\n",
    "- Insert cell above current cell: ESC , a <br>\n",
    "- Delete current cell: ESC , x <br>\n",
    "- Run current cell: SHIFT + ENTER <br>\n",
    "- Visit the INSERT & CELL menus."
   ]
  },
  {
   "attachments": {},
   "cell_type": "markdown",
   "id": "powered-float",
   "metadata": {},
   "source": [
    "### 3. Datatypes & boolean operators\n",
    "- No need to declare/create variables.<br>\n",
    "- Execute following code in Jupyter & notice output:"
   ]
  },
  {
   "cell_type": "code",
   "execution_count": 28,
   "id": "demonstrated-grove",
   "metadata": {},
   "outputs": [
    {
     "name": "stdout",
     "output_type": "stream",
     "text": [
      "7\n"
     ]
    }
   ],
   "source": [
    "x = 7\n",
    "print(x)"
   ]
  },
  {
   "cell_type": "code",
   "execution_count": 29,
   "id": "settled-division",
   "metadata": {},
   "outputs": [
    {
     "data": {
      "text/plain": [
       "int"
      ]
     },
     "execution_count": 29,
     "metadata": {},
     "output_type": "execute_result"
    }
   ],
   "source": [
    "type(x)"
   ]
  },
  {
   "cell_type": "code",
   "execution_count": 30,
   "id": "crucial-short",
   "metadata": {},
   "outputs": [
    {
     "name": "stdout",
     "output_type": "stream",
     "text": [
      "India\n"
     ]
    }
   ],
   "source": [
    "name = \"India\"\n",
    "print(name)"
   ]
  },
  {
   "cell_type": "code",
   "execution_count": 31,
   "id": "hungry-harassment",
   "metadata": {},
   "outputs": [
    {
     "data": {
      "text/plain": [
       "str"
      ]
     },
     "execution_count": 31,
     "metadata": {},
     "output_type": "execute_result"
    }
   ],
   "source": [
    "type(name)"
   ]
  },
  {
   "cell_type": "code",
   "execution_count": 32,
   "id": "future-child",
   "metadata": {},
   "outputs": [
    {
     "name": "stdout",
     "output_type": "stream",
     "text": [
      "False\n"
     ]
    }
   ],
   "source": [
    "y = 9\n",
    "\n",
    "z = x == y\n",
    "print(z)"
   ]
  },
  {
   "cell_type": "code",
   "execution_count": 33,
   "id": "sustained-interference",
   "metadata": {},
   "outputs": [
    {
     "data": {
      "text/plain": [
       "bool"
      ]
     },
     "execution_count": 33,
     "metadata": {},
     "output_type": "execute_result"
    }
   ],
   "source": [
    "type(z)"
   ]
  },
  {
   "cell_type": "code",
   "execution_count": 34,
   "id": "accompanied-sleeve",
   "metadata": {},
   "outputs": [
    {
     "name": "stdout",
     "output_type": "stream",
     "text": [
      "Hindustan\n"
     ]
    }
   ],
   "source": [
    "name2 = \"Hindustan\"\n",
    "print(name2)"
   ]
  },
  {
   "cell_type": "code",
   "execution_count": 35,
   "id": "opponent-administrator",
   "metadata": {},
   "outputs": [
    {
     "name": "stdout",
     "output_type": "stream",
     "text": [
      "True\n",
      "<class 'bool'>\n"
     ]
    }
   ],
   "source": [
    "z = name != name2\n",
    "print(z)\n",
    "print(type(z))"
   ]
  },
  {
   "cell_type": "code",
   "execution_count": 36,
   "id": "renewable-durham",
   "metadata": {},
   "outputs": [
    {
     "data": {
      "text/plain": [
       "bool"
      ]
     },
     "execution_count": 36,
     "metadata": {},
     "output_type": "execute_result"
    }
   ],
   "source": [
    "type(z)"
   ]
  },
  {
   "attachments": {},
   "cell_type": "markdown",
   "id": "leading-tradition",
   "metadata": {},
   "source": [
    "### 4. The print() and input() functions"
   ]
  },
  {
   "cell_type": "code",
   "execution_count": 37,
   "id": "instructional-teacher",
   "metadata": {},
   "outputs": [
    {
     "name": "stdout",
     "output_type": "stream",
     "text": [
      "Your name is: 7\n"
     ]
    }
   ],
   "source": [
    "nm = input(\"Enter your name:\")\n",
    "# nm = input()\n",
    "print(\"Your name is:\", nm)"
   ]
  },
  {
   "cell_type": "code",
   "execution_count": 38,
   "id": "ethical-graduate",
   "metadata": {},
   "outputs": [
    {
     "name": "stdout",
     "output_type": "stream",
     "text": [
      "Hello. My name is  7  I am a student. Regards from 7 Again  7\n",
      "Notice semicolon in the code on current line.\n"
     ]
    }
   ],
   "source": [
    "print(\"Hello. My name is \",nm,\" I am a student. Regards from\",nm,\"Again \",nm) ;  print(\"Notice semicolon in the code on current line.\")"
   ]
  },
  {
   "cell_type": "code",
   "execution_count": 39,
   "id": "martial-nicholas",
   "metadata": {},
   "outputs": [
    {
     "name": "stdout",
     "output_type": "stream",
     "text": [
      "Your age is: 7\n"
     ]
    }
   ],
   "source": [
    "age = input(\"Enter your age:\")\n",
    "print(\"Your age is:\",age)"
   ]
  },
  {
   "attachments": {},
   "cell_type": "markdown",
   "id": "seventh-glasgow",
   "metadata": {},
   "source": [
    "### 5. Type casting"
   ]
  },
  {
   "cell_type": "code",
   "execution_count": 40,
   "id": "hollow-soundtrack",
   "metadata": {},
   "outputs": [
    {
     "data": {
      "text/plain": [
       "str"
      ]
     },
     "execution_count": 40,
     "metadata": {},
     "output_type": "execute_result"
    }
   ],
   "source": [
    "type(age) # Notice datatype of the age variable"
   ]
  },
  {
   "cell_type": "code",
   "execution_count": 41,
   "id": "occupied-calculation",
   "metadata": {},
   "outputs": [
    {
     "name": "stdout",
     "output_type": "stream",
     "text": [
      "Your age is: 7\n"
     ]
    }
   ],
   "source": [
    "age = int(age) # cast str to int\n",
    "print(\"Your age is:\",age)"
   ]
  },
  {
   "cell_type": "code",
   "execution_count": 42,
   "id": "reliable-clone",
   "metadata": {},
   "outputs": [
    {
     "data": {
      "text/plain": [
       "int"
      ]
     },
     "execution_count": 42,
     "metadata": {},
     "output_type": "execute_result"
    }
   ],
   "source": [
    "type(age) # Notice datatype of the age variable"
   ]
  },
  {
   "cell_type": "code",
   "execution_count": 43,
   "id": "broadband-container",
   "metadata": {},
   "outputs": [
    {
     "name": "stdout",
     "output_type": "stream",
     "text": [
      "Rate of interest =  7.0\n"
     ]
    }
   ],
   "source": [
    "roi = float(input(\"Enter rate of interest:\"))\n",
    "print(\"Rate of interest = \",roi)"
   ]
  },
  {
   "cell_type": "code",
   "execution_count": 44,
   "id": "static-penalty",
   "metadata": {},
   "outputs": [
    {
     "data": {
      "text/plain": [
       "float"
      ]
     },
     "execution_count": 44,
     "metadata": {},
     "output_type": "execute_result"
    }
   ],
   "source": [
    "type(roi)"
   ]
  },
  {
   "attachments": {},
   "cell_type": "markdown",
   "id": "muslim-think",
   "metadata": {},
   "source": [
    "### EXERCISES\n",
    "Install Jupter Notebook in your system.<br>\n",
    "Install IDLE in your system.<br>\n",
    "Create Python programs for the following:\n",
    "<ol>\n",
    "    <li>Input user's fullname, age, complete address, phone number on screen. Print them in proper way on screen.\n",
    "    <li>Input two integer operands from user. Print their summation, difference, multiplication and division.\n",
    "    <li>Input/read principal amount(P), rate of interest(R) and Duraton in Number of years (N) from user. Compute Simple Interest.\n",
    "    <li>Compute compound interest in above program.\n",
    "    <li>Input radius of circle from user. Compute diameter, perimeter and area of circle.\n",
    "    <li>Input student details: rollno, name and marks of 4 subjects from user. Calculate total marks, percentage and grade. Print mark-sheet.\n",
    "    <li>Input employee details: empno, name, gender, basic salary from user. Calculate DA (110% of basic salary ), HRA (5% of basic salary) and total salary. Also calculate yearly gross salary which also \n",
    "includes bonus (50% of one basic salary).\n",
    "    <li>Compute area and perimeter of a rectangle.\n",
    "    <li>(i) Celcius to Fahrenheit. (ii) Fahrenheit to Celcius.\n",
    "    <li>(i) Show current date. (ii) Show current time. (iii) Show current date and time.\n",
    "    <li>Store your birthdate (in a valid date format) in a variable.\n",
    "</ol>"
   ]
  },
  {
   "cell_type": "code",
   "execution_count": 45,
   "id": "incorporate-cedar",
   "metadata": {},
   "outputs": [],
   "source": [
    "# import datetime\n",
    "# cdt = datetime.datetime.now()\n",
    "# bdt = datetime.datetime(2023, 07, 03)"
   ]
  },
  {
   "cell_type": "code",
   "execution_count": null,
   "id": "a33a4dbb",
   "metadata": {},
   "outputs": [],
   "source": []
  }
 ],
 "metadata": {
  "interpreter": {
   "hash": "580da2304ff396147d509682ff11b5797ce071da1641d1a402953ffbfa995e0e"
  },
  "kernelspec": {
   "display_name": "Python 3.10.4 ('python310')",
   "language": "python",
   "name": "python3"
  },
  "language_info": {
   "codemirror_mode": {
    "name": "ipython",
    "version": 3
   },
   "file_extension": ".py",
   "mimetype": "text/x-python",
   "name": "python",
   "nbconvert_exporter": "python",
   "pygments_lexer": "ipython3",
   "version": "3.10.9"
  }
 },
 "nbformat": 4,
 "nbformat_minor": 5
}
