{
 "cells": [
  {
   "cell_type": "markdown",
   "metadata": {},
   "source": [
    "### Python Practical 2: Elements of Python Programming II\n",
    "#### By MA051 - Prathvik Sankaliya"
   ]
  },
  {
   "cell_type": "markdown",
   "metadata": {},
   "source": [
    "#### EXERCISES-2-A\n",
    "1. Input two float operands from user. Apply arithmetic operators on them."
   ]
  },
  {
   "cell_type": "code",
   "execution_count": 12,
   "metadata": {},
   "outputs": [
    {
     "name": "stdout",
     "output_type": "stream",
     "text": [
      "Arithmetic Oprations: \n",
      "Addition is:  25.2\n",
      "Substarction is:  5.199999999999999\n",
      "Multiplication is:  152.0\n",
      "Division is:  1.52\n",
      "Moudlas is:  5.199999999999999\n",
      "Square is:  658318226671.6097\n"
     ]
    }
   ],
   "source": [
    "num1 = float(input(\"Enter First Number: \"))\n",
    "num2 = float(input(\"Enter Sec Number: \"))\n",
    "\n",
    "print(\"Arithmetic Oprations: \")\n",
    "print(\"Addition is: \" , (num1 + num2))\n",
    "print(\"Substarction is: \" , (num1 - num2))\n",
    "print(\"Multiplication is: \" , (num1 * num2))\n",
    "print(\"Division is: \" , (num1 / num2))\n",
    "print(\"Moudlas is: \" , (num1 % num2))\n",
    "print(\"Square is: \", (num1 ** num2)) #15.20 10"
   ]
  },
  {
   "cell_type": "markdown",
   "metadata": {},
   "source": [
    "2. Input two string operands from user. Check behaviour of relational and logical operators on them. Write your observations."
   ]
  },
  {
   "cell_type": "code",
   "execution_count": 6,
   "metadata": {},
   "outputs": [
    {
     "name": "stdout",
     "output_type": "stream",
     "text": [
      "Logical Operator: \n",
      "Sankaliya\n",
      "Prathvik\n",
      "Relational Operator: \n",
      "False\n",
      "True\n",
      "False\n",
      "True\n"
     ]
    }
   ],
   "source": [
    "str1 = input(\"Enter First String: \")\n",
    "str2 = input(\"Enter Sec String: \")\n",
    "\n",
    "print(\"Logical Operator: \")\n",
    "print(str1 and str2) # with and oprator check first and second both string and then print second\n",
    "print(str1 or str2) #with or operator check only first string if this is false so check second othervise not.\n",
    "\n",
    "print(\"Relational Operator: \")\n",
    "print(str1 > str2) # str1 is Bigger than str2 so it's true othervise false\n",
    "print(str1 < str2); #as above\n",
    "print(str1 == str2); #both string are equal to True othervise false\n",
    "print(str1 != str2); #both string are Not equal to True othervise false\n"
   ]
  },
  {
   "cell_type": "markdown",
   "metadata": {},
   "source": [
    "3. Input two int operands from user. Explain behviour of bitwise operators on them."
   ]
  },
  {
   "cell_type": "code",
   "execution_count": 11,
   "metadata": {},
   "outputs": [
    {
     "name": "stdout",
     "output_type": "stream",
     "text": [
      "Bitwise Oprations: \n",
      "And Operator is:  8\n",
      "Or Operator is:  14\n",
      "Xor is:  6\n",
      "right shift Oprator is:  0\n",
      "Left shift Oprator is:  40960\n"
     ]
    }
   ],
   "source": [
    "num1 = int(input(\"Enter First Number: \"))\n",
    "num2 = int(input(\"Enter Sec Number: \"))\n",
    "\n",
    "print(\"Bitwise Oprations: \")\n",
    "print(\"And Operator is: \" , (num1 & num2))\n",
    "print(\"Or Operator is: \" , (num1 | num2))\n",
    "print(\"Xor is: \" , (num1 ^ num2))\n",
    "print(\"right shift Oprator is: \" , (num1 >> num2))\n",
    "print(\"Left shift Oprator is: \" , (num1 << num2)) # 10 12"
   ]
  },
  {
   "cell_type": "markdown",
   "metadata": {},
   "source": [
    "#### EXERCISES-2-B"
   ]
  },
  {
   "cell_type": "markdown",
   "metadata": {},
   "source": [
    "1. Determine whether an integer entered by a user is odd or even."
   ]
  },
  {
   "cell_type": "code",
   "execution_count": 10,
   "metadata": {},
   "outputs": [
    {
     "name": "stdout",
     "output_type": "stream",
     "text": [
      "Odd\n"
     ]
    }
   ],
   "source": [
    "num1 = int(input(\"Enter First Number: \"))\n",
    "\n",
    "if(num1 % 2 == 0):\n",
    "    print(\"Even\")\n",
    "else:\n",
    "    print(\"Odd\") #123"
   ]
  },
  {
   "cell_type": "markdown",
   "metadata": {},
   "source": [
    "2. Input student details: rollno, name and marks of 3 subjects from user. Calculate total marks, percentage and grade. Print mark-sheet. Determine pass or fail."
   ]
  },
  {
   "cell_type": "code",
   "execution_count": 13,
   "metadata": {},
   "outputs": [
    {
     "name": "stdout",
     "output_type": "stream",
     "text": [
      "Marksheet: \n",
      "Name of Student is:  Prathvik\n",
      "Roll Number of Student is:  51\n",
      "Total Marks of Student is:  255\n",
      "Precentage of Student is:  85.0\n",
      "Grade of Student is:  A Grade\n"
     ]
    }
   ],
   "source": [
    "rollNum = int(input(\"Enter Roll Number: \"))\n",
    "name = input(\"Enter Name: \");\n",
    "sub1 = int(input(\"Enter marks 1st Subject: \"));\n",
    "sub2 = int(input(\"Enter marks 2nd Subject: \"));\n",
    "sub3 = int(input(\"Enter marks 3rd Subject: \"));\n",
    "totalMarks = (sub1 + sub2 + sub3);\n",
    "pr = (totalMarks / 300) * 100;\n",
    "if(pr >= 80):\n",
    "    grade = \"A Grade\";\n",
    "elif(pr >= 60 and pr < 80):\n",
    "    grade = \"B Grade\";\n",
    "else:\n",
    "    grade = \"C Grade\";\n",
    "    \n",
    "print(\"Marksheet: \");\n",
    "print(\"Name of Student is: \", name);\n",
    "print(\"Roll Number of Student is: \", rollNum);\n",
    "print(\"Total Marks of Student is: \", totalMarks);\n",
    "print(\"Precentage of Student is: \", pr);\n",
    "print(\"Grade of Student is: \", grade); # 51 , Prathvik, 90, 80, 85\n"
   ]
  },
  {
   "cell_type": "markdown",
   "metadata": {},
   "source": [
    "#### EXERCISES-2-C"
   ]
  },
  {
   "cell_type": "markdown",
   "metadata": {},
   "source": [
    "1. Print multiplication table of a number entered by user."
   ]
  },
  {
   "cell_type": "code",
   "execution_count": 15,
   "metadata": {},
   "outputs": [
    {
     "name": "stdout",
     "output_type": "stream",
     "text": [
      "MultiPlication Table: \n",
      "10  *  1  =  10\n",
      "10  *  2  =  20\n",
      "10  *  3  =  30\n",
      "10  *  4  =  40\n",
      "10  *  5  =  50\n",
      "10  *  6  =  60\n",
      "10  *  7  =  70\n",
      "10  *  8  =  80\n",
      "10  *  9  =  90\n",
      "10  *  10  =  100\n"
     ]
    }
   ],
   "source": [
    "num = int(input(\"Enter Number: \"));\n",
    "\n",
    "print(\"MultiPlication Table: \");\n",
    "for i in range(1, 11):\n",
    "    print(num ,\" * \", i , \" = \", num * i);\n",
    "    "
   ]
  },
  {
   "cell_type": "markdown",
   "metadata": {},
   "source": [
    "2. Compute factorial of a number given by user."
   ]
  },
  {
   "cell_type": "code",
   "execution_count": 18,
   "metadata": {},
   "outputs": [
    {
     "name": "stdout",
     "output_type": "stream",
     "text": [
      "Factorial Number: \n",
      "Factorial is:  120\n"
     ]
    }
   ],
   "source": [
    "num = int(input(\"Enter Number: \"));\n",
    "\n",
    "print(\"Factorial Number: \");\n",
    "ans = 1;\n",
    "for i in range(1, num + 1):\n",
    "    ans *= i;\n",
    "    \n",
    "print(\"Factorial is: \", ans);"
   ]
  },
  {
   "cell_type": "code",
   "execution_count": null,
   "metadata": {},
   "outputs": [],
   "source": []
  }
 ],
 "metadata": {
  "kernelspec": {
   "display_name": "Python 3",
   "language": "python",
   "name": "python3"
  },
  "language_info": {
   "codemirror_mode": {
    "name": "ipython",
    "version": 3
   },
   "file_extension": ".py",
   "mimetype": "text/x-python",
   "name": "python",
   "nbconvert_exporter": "python",
   "pygments_lexer": "ipython3",
   "version": "3.11.3"
  },
  "orig_nbformat": 4
 },
 "nbformat": 4,
 "nbformat_minor": 2
}
