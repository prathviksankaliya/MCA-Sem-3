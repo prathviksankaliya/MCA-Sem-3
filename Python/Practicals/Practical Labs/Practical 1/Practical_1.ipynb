{
 "cells": [
  {
   "cell_type": "markdown",
   "metadata": {},
   "source": [
    "### Python Practical 1: Elements of Python Programming\n",
    "#### By MA051 - Prathvik Sankaliya"
   ]
  },
  {
   "cell_type": "markdown",
   "metadata": {},
   "source": [
    "### 1.Input user's fullname, age, complete address, phone number on screen. Print them in proper way on screen."
   ]
  },
  {
   "cell_type": "code",
   "execution_count": 1,
   "metadata": {},
   "outputs": [
    {
     "name": "stdout",
     "output_type": "stream",
     "text": [
      "\n",
      "\n",
      "Name is =  Prathvik\n",
      "Age is =  21\n",
      "Complete Address is =  Limbdi\n",
      "Phone Number is =  9723816724\n"
     ]
    }
   ],
   "source": [
    "name = input(\"Enter You Full Name: \")\n",
    "age = input(\"Enter You Age: \")\n",
    "address = input(\"Enter Your Complete Address: \")\n",
    "phone = input(\"Enter You Phone Number: \")\n",
    "\n",
    "print(\"\\n\")\n",
    "print(\"Name is = \",name)\n",
    "print(\"Age is = \",age)\n",
    "print(\"Complete Address is = \",address)\n",
    "print(\"Phone Number is = \",phone)"
   ]
  },
  {
   "cell_type": "markdown",
   "metadata": {},
   "source": [
    "### 2.Input two integer operands from user. Print their summation, difference, multiplication and division."
   ]
  },
  {
   "cell_type": "code",
   "execution_count": 2,
   "metadata": {},
   "outputs": [
    {
     "name": "stdout",
     "output_type": "stream",
     "text": [
      "\n",
      "\n",
      "Addition Of  50  And  60  is:  110\n",
      "Subtraction Of  50  And  60  is:  -10\n",
      "Multiflication Of  50  And  60  is:  3000\n",
      "Division Of  50  And  60  is:  0.8333333333333334\n"
     ]
    }
   ],
   "source": [
    "no1=int(input(\"Enter Number 1: \"))\n",
    "no2=int(input(\"Enter Number 2: \"))\n",
    "print(\"\\n\")\n",
    "\n",
    "print(\"Addition Of \",no1 ,\" And \",no2,\" is: \", no1+no2)\n",
    "print(\"Subtraction Of \",no1,\" And \",no2,\" is: \", no1-no2)\n",
    "print(\"Multiflication Of \",no1,\" And \",no2,\" is: \",no1*no2)\n",
    "print(\"Division Of \",no1,\" And \",no2,\" is: \",no1/no2)"
   ]
  },
  {
   "cell_type": "markdown",
   "metadata": {},
   "source": [
    "### 3.Input/read principal amount(P), rate of interest(R) and Duraton in Number of years (N) from user. Compute Simple Interest."
   ]
  },
  {
   "cell_type": "code",
   "execution_count": 8,
   "metadata": {},
   "outputs": [
    {
     "name": "stdout",
     "output_type": "stream",
     "text": [
      "\n",
      "\n",
      "Pricipal Amount:  1000\n",
      "Rate Of Intrest:  0.05\n",
      "Duration In Time:  3\n",
      "\n",
      "\n",
      "Simple Intrest:  1.5\n"
     ]
    }
   ],
   "source": [
    "pamt=int(input(\"Enter Principal Amount: \"))\n",
    "roi=float(input(\"Enter Rate Of Intrest: \"))\n",
    "time=int(input(\"Enter Duration In Years: \"))\n",
    "print(\"\\n\")\n",
    "\n",
    "si=(pamt*roi*time)/100\n",
    "print(\"Pricipal Amount: \",pamt)\n",
    "print(\"Rate Of Intrest: \",roi)\n",
    "print(\"Duration In Time: \",time)\n",
    "print(\"\\n\")\n",
    "print(\"Simple Intrest: \",si)"
   ]
  },
  {
   "cell_type": "markdown",
   "metadata": {},
   "source": [
    "### 4. Compute compound interest in above program."
   ]
  },
  {
   "cell_type": "code",
   "execution_count": 18,
   "metadata": {},
   "outputs": [
    {
     "name": "stdout",
     "output_type": "stream",
     "text": [
      "N is :  5\n",
      "Compound Interest:  1160.9689553699986\n"
     ]
    }
   ],
   "source": [
    "n = int(input(\"Enter Number of Compounding Periods per Year: \"))\n",
    "print(\"N is : \", n)\n",
    "ans = pamt * ((1 + (roi / n)) ** (n * time))\n",
    "print(\"Compound Interest: \", ans)"
   ]
  },
  {
   "cell_type": "markdown",
   "metadata": {},
   "source": [
    "### 5. Input radius of circle from user. Compute diameter, perimeter and area of circle."
   ]
  },
  {
   "cell_type": "code",
   "execution_count": 16,
   "metadata": {},
   "outputs": [
    {
     "name": "stdout",
     "output_type": "stream",
     "text": [
      "Radius of Circle is:  25\n",
      "\n",
      "\n",
      "Diameter Of Cirle:  50\n",
      "Perimeter Of Cirle: 157.0\n",
      "Area Of Cirle: 1962.5\n"
     ]
    }
   ],
   "source": [
    "radius=int(input(\"Enter Radius Of Circle: \"))\n",
    "diameter=2*radius\n",
    "perimeter=2*3.14*radius\n",
    "area= 3.14*radius*radius\n",
    "print(\"Radius of Circle is: \", radius)\n",
    "print(\"\\n\")\n",
    "print(\"Diameter Of Cirle: \" ,diameter)\n",
    "print(\"Perimeter Of Cirle:\",perimeter)\n",
    "print(\"Area Of Cirle:\" ,area)"
   ]
  },
  {
   "cell_type": "markdown",
   "metadata": {},
   "source": [
    "### 6.Input student details: rollno, name and marks of 4 subjects from user. Calculate total marks, percentage and grade. Print mark-sheet."
   ]
  },
  {
   "cell_type": "code",
   "execution_count": 21,
   "metadata": {},
   "outputs": [
    {
     "name": "stdout",
     "output_type": "stream",
     "text": [
      "         Result           \n",
      "\n",
      "\n",
      "Name Of Student:  Prathvik Sankaliya\n",
      "Roll No Of Student:  51\n",
      "Total Marks Of 4 Subjects:  335\n",
      "Percentage:  83.75\n",
      "Grade B\n"
     ]
    }
   ],
   "source": [
    "name=input(\"Enter Name Of Student: \")\n",
    "rollno=int(input(\"Roll Number Of Student: \"))\n",
    "s1=int(input(\"Enter Marks Of Subject 1: \"))\n",
    "s2=int(input(\"Enter Marks Of Subject 2: \"))\n",
    "s3=int(input(\"Enter Marks Of Subject 3: \"))\n",
    "s4=int(input(\"Enter Marks Of Subject 4: \"))\n",
    "total = s1+s2+s3+s4\n",
    "per=(total*100)/400\n",
    "\n",
    "print(\"         Result           \")\n",
    "print(\"\\n\")\n",
    "print(\"Name Of Student: \",name)\n",
    "print(\"Roll No Of Student: \",rollno)\n",
    "print(\"Total Marks Of 4 Subjects: \",total)\n",
    "print(\"Percentage: \",per)\n",
    "if per>90:\n",
    "    print(\"Congratulation Grade A\")\n",
    "elif per>80 and per<90:\n",
    "    print(\"Grade B\")\n",
    "elif per>70 and per<80:\n",
    "    print(\"Grade C\")\n",
    "elif per>60 and per<70:\n",
    "    print(\"Grade D\")\n",
    "else:\n",
    "    print(\"You Failed...\")"
   ]
  },
  {
   "cell_type": "markdown",
   "metadata": {},
   "source": [
    "### 7.Input employee details: empno, name, gender, basic salary from user. Calculate DA (80% of basic salary ), HRA (15% of basic salary) and net salary. Also calculate gross (yearly) salary which also includes bonus (50% of one basic salary)."
   ]
  },
  {
   "cell_type": "code",
   "execution_count": 22,
   "metadata": {},
   "outputs": [
    {
     "name": "stdout",
     "output_type": "stream",
     "text": [
      "Employee Details: \n",
      "\n",
      "Employee Name:  Prathvik\n",
      "Employee No:  MA051\n",
      "Employee Gender:  Male\n",
      "Basic Salary Of Employee is:  250000\n",
      "\n",
      "\n",
      "DA Given To Employee is:  200000.0\n",
      "HRA Given To Employee is:  37500.0\n",
      "Net Monthly Salary Of Employee is:  487500.0\n",
      "Gross(Yearly) Salary Of Employee:  5850000.0\n",
      "Yearly Bonus Of Employee:  125000.0\n",
      "Final Gross Salary Of Employee:  5975000.0\n"
     ]
    }
   ],
   "source": [
    "empno = input(\"Enter Employee Number: \")\n",
    "empname = input(\"Enter Employee Name: \")\n",
    "gender = input(\"Enter Gendar Of Employee: \")\n",
    "basic = int(input(\"Enter Basic Salary Of Employee: \"))\n",
    "da = 0.80*basic\n",
    "hra = 0.15*basic\n",
    "net=basic+da+hra\n",
    "gross=(net*12)+(basic/2)\n",
    "print(\"Employee Details: \\n\")\n",
    "print(\"Employee Name: \",empname)\n",
    "print(\"Employee No: \",empno)\n",
    "print(\"Employee Gender: \",gender)\n",
    "print(\"Basic Salary Of Employee is: \",basic)\n",
    "print(\"\\n\")\n",
    "print(\"DA Given To Employee is: \",da)\n",
    "print(\"HRA Given To Employee is: \",hra)\n",
    "print(\"Net Monthly Salary Of Employee is: \",net)\n",
    "print(\"Gross(Yearly) Salary Of Employee: \",(net*12))\n",
    "print(\"Yearly Bonus Of Employee: \",(basic/2))\n",
    "print(\"Final Gross Salary Of Employee: \",gross)"
   ]
  },
  {
   "cell_type": "markdown",
   "metadata": {},
   "source": [
    "### 8. Compute area and perimeter of a rectangle."
   ]
  },
  {
   "cell_type": "code",
   "execution_count": 24,
   "metadata": {},
   "outputs": [
    {
     "name": "stdout",
     "output_type": "stream",
     "text": [
      "Length is :  25.0\n",
      "Width is :  27.0\n",
      "Area of the rectangle: 675.0\n",
      "Perimeter of the rectangle: 104.0\n"
     ]
    }
   ],
   "source": [
    "length = float(input(\"Enter the length of the rectangle: \"))\n",
    "width = float(input(\"Enter the width of the rectangle: \"))\n",
    "\n",
    "area = length * width\n",
    "perimeter = 2 * (length + width)\n",
    "print(\"Length is : \", length)\n",
    "print(\"Width is : \", width)\n",
    "print(\"Area of the rectangle:\", area)\n",
    "print(\"Perimeter of the rectangle:\", perimeter)"
   ]
  },
  {
   "cell_type": "markdown",
   "metadata": {},
   "source": [
    "### 9. (i) Celcius to Fahrenheit. (ii) Fahrenheit to Celcius."
   ]
  },
  {
   "cell_type": "code",
   "execution_count": 26,
   "metadata": {},
   "outputs": [
    {
     "name": "stdout",
     "output_type": "stream",
     "text": [
      "Celsius:  250.78\n",
      "Temperature in Fahrenheit: 483.404\n",
      "Fahrenheit:  450.76\n",
      "Temperature in Celsius: 232.64444444444447\n"
     ]
    }
   ],
   "source": [
    "# 1. Celcius to Fahrenheit.\n",
    "celsius = float(input(\"Enter the temperature in Celsius: \"))\n",
    "print(\"Celsius: \", celsius)\n",
    "fahrenheit = (celsius * 9/5) + 32\n",
    "print(\"Temperature in Fahrenheit:\", fahrenheit)\n",
    "\n",
    "# 2. Fahrenheit to Celcius.\n",
    "fahrenheit = float(input(\"Enter the temperature in Fahrenheit: \"))\n",
    "print(\"Fahrenheit: \", fahrenheit)\n",
    "celsius = (fahrenheit - 32) * 5/9\n",
    "print(\"Temperature in Celsius:\", celsius)"
   ]
  },
  {
   "cell_type": "markdown",
   "metadata": {},
   "source": [
    "### 10. (i) Show current date. (ii) Show current time. (iii) Show current date and time."
   ]
  },
  {
   "cell_type": "code",
   "execution_count": 28,
   "metadata": {},
   "outputs": [
    {
     "name": "stdout",
     "output_type": "stream",
     "text": [
      "Current Date:  2023-07-07\n",
      "Current Time:  22:23:49.829523\n",
      "Current Date and Time:  2023-07-07 22:23:49.829523\n"
     ]
    }
   ],
   "source": [
    "import datetime\n",
    "\n",
    "current_date = datetime.date.today()\n",
    "print(\"Current Date: \", current_date)\n",
    "current_time = datetime.datetime.now().time()\n",
    "print(\"Current Time: \", current_time)\n",
    "current_date_time = datetime.datetime.now()\n",
    "print(\"Current Date and Time: \", current_date_time)\n"
   ]
  },
  {
   "cell_type": "markdown",
   "metadata": {},
   "source": [
    "### 11. Store your birthdate (in a valid date format) in a variable."
   ]
  },
  {
   "cell_type": "code",
   "execution_count": 29,
   "metadata": {},
   "outputs": [
    {
     "name": "stdout",
     "output_type": "stream",
     "text": [
      "My Birthday Date:  2002-09-09 10:21:00\n"
     ]
    }
   ],
   "source": [
    "birthDate = datetime.datetime(2002, 9, 9, 10, 21, 00)\n",
    "print(\"My Birthday Date: \",birthDate)"
   ]
  }
 ],
 "metadata": {
  "kernelspec": {
   "display_name": "Python 3",
   "language": "python",
   "name": "python3"
  },
  "language_info": {
   "codemirror_mode": {
    "name": "ipython",
    "version": 3
   },
   "file_extension": ".py",
   "mimetype": "text/x-python",
   "name": "python",
   "nbconvert_exporter": "python",
   "pygments_lexer": "ipython3",
   "version": "3.11.3"
  },
  "orig_nbformat": 4
 },
 "nbformat": 4,
 "nbformat_minor": 2
}
